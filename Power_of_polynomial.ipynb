{
 "cells": [
  {
   "cell_type": "markdown",
   "id": "9b6748c1",
   "metadata": {},
   "source": [
    "A power polynomial is a type of function that can be written as the sum of terms of the form $c*x^n$, where c is a constant and n is a non-negative integer. In other words, it is a polynomial function in which the variable is raised to a power.\n",
    "\n",
    "For example, the function $f(x) = 3x^4 - 2x^3 + 5x^2 - x + 1$ is a power polynomial of degree 4, since the highest power of x is 4.\n",
    "\n",
    "Power polynomials are commonly used in mathematical modeling and in various fields of science and engineering, such as physics, economics, and computer science. They can be used to represent a wide range of phenomena, from simple physical laws to complex data sets. They also have many important mathematical properties, such as the ability to be integrated and differentiated, and can be used in calculus to solve various problems.\n",
    "\n"
   ]
  },
  {
   "cell_type": "code",
   "execution_count": 8,
   "id": "ebe7b43e",
   "metadata": {},
   "outputs": [
    {
     "name": "stdout",
     "output_type": "stream",
     "text": [
      "Enter the polynomial coefficients (from lowest to highest degree): 1 2\n",
      "Enter the power: 3\n",
      "The result of is: 8x^3 + 12x^2 + 6x + 1\n"
     ]
    }
   ],
   "source": [
    "# Define the function to compute the power of a polynomial\n",
    "def polynomial_power(polynomial, power):\n",
    "    result = [0] * (len(polynomial) + power - 1)\n",
    "    result[0:len(polynomial)] = polynomial\n",
    "    for i in range(2, power + 1):\n",
    "        temp = [0] * (len(polynomial) + i - 1)\n",
    "        for j in range(len(polynomial)):\n",
    "            for k in range(i):\n",
    "                temp[j + k] += polynomial[j] * result[k]\n",
    "        result = temp\n",
    "    return result\n",
    "\n",
    "# Ask the user to enter the polynomial and the power\n",
    "polynomial = list(map(int, input(\"Enter the polynomial coefficients (from lowest to highest degree): \").split()))\n",
    "power = int(input(\"Enter the power: \"))\n",
    "\n",
    "# Compute the power of the polynomial\n",
    "result = polynomial_power(polynomial, power)\n",
    "\n",
    "# Print the result in the form of a polynomial\n",
    "polynomial_string = \"\"\n",
    "for i in range(len(result) - 1, -1, -1):\n",
    "    if i == 0:\n",
    "        polynomial_string += f\"{result[i]}\"\n",
    "    elif i == 1:\n",
    "        polynomial_string += f\"{result[i]}x + \"\n",
    "    else:\n",
    "        polynomial_string += f\"{result[i]}x^{i} + \"\n",
    "print(f\"The result of is: {polynomial_string}\")\n"
   ]
  },
  {
   "cell_type": "markdown",
   "id": "9205bba6",
   "metadata": {},
   "source": [
    "To use this code, simply run the cell in your Jupyter Notebook and follow the prompts to enter the polynomial and the power. The code will then compute the power of the polynomial and print the result in the form of a polynomial. Note that the polynomial coefficients should be entered in descending order of degree, with the first coefficient corresponding to the highest degree term.\n",
    "\n",
    "For example, to compute the polynomial $(2x^2 + 3x + 1)^3$, you would enter 1 3 2 for the coefficients and 3 for the power. The code will then compute the result and print it in the form of a polynomial, like this: The result of (1 + 3x + 2x^2)^3 is: 1 + 9x + 26x^2 + 33x^3 + 26x^4 + 9x^5 + x^6.\n",
    "\n"
   ]
  },
  {
   "cell_type": "code",
   "execution_count": null,
   "id": "2b9286bd",
   "metadata": {},
   "outputs": [],
   "source": []
  }
 ],
 "metadata": {
  "kernelspec": {
   "display_name": "Python 3 (ipykernel)",
   "language": "python",
   "name": "python3"
  },
  "language_info": {
   "codemirror_mode": {
    "name": "ipython",
    "version": 3
   },
   "file_extension": ".py",
   "mimetype": "text/x-python",
   "name": "python",
   "nbconvert_exporter": "python",
   "pygments_lexer": "ipython3",
   "version": "3.9.12"
  }
 },
 "nbformat": 4,
 "nbformat_minor": 5
}
